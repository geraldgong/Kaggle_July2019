{
 "cells": [
  {
   "cell_type": "code",
   "execution_count": 51,
   "metadata": {},
   "outputs": [],
   "source": [
    "import numpy as np\n",
    "import pandas as pd\n",
    "import os\n",
    "from tqdm import tqdm"
   ]
  },
  {
   "cell_type": "code",
   "execution_count": 52,
   "metadata": {},
   "outputs": [],
   "source": [
    "if 'ygong' in os.getcwd():\n",
    "    filepath = \"../data\"\n",
    "    dir_out = \"../output\"\n",
    "else:\n",
    "    filepath = \"/home/gong/Documents/Kaggle_July2019/data\"\n",
    "    dir_out = \"/home/gong/Documents/Kaggle_July2019/output\"\n",
    "\n",
    "def load_data(filepath):\n",
    "    train = pd.read_csv(os.path.join(filepath, 'train.csv'))\n",
    "    test = pd.read_csv(os.path.join(filepath, 'test.csv'))\n",
    "    submit = pd.read_csv(os.path.join(filepath, 'sample_submission.csv'))\n",
    "    structures = pd.read_csv(os.path.join(filepath, 'structures.csv'))\n",
    "\n",
    "    print('Train dataset shape is -> rows: {} cols:{}'.format(train.shape[0], train.shape[1]))\n",
    "    print('Test dataset shape is  -> rows: {} cols:{}'.format(test.shape[0], test.shape[1]))\n",
    "    print('Sample submission dataset shape is  -> rows: {} cols:{}'.format(submit.shape[0], submit.shape[1]))\n",
    "    print('Structures dataset shape is  -> rows: {} cols:{}'.format(structures.shape[0], structures.shape[1]))\n",
    "    print('\\n')\n",
    "\n",
    "    return train, test, submit, structures"
   ]
  },
  {
   "cell_type": "code",
   "execution_count": 53,
   "metadata": {},
   "outputs": [],
   "source": [
    "def molecule_properties(structures):\n",
    "    atomic_radius = {'H': 0.38, 'C': 0.77, 'N': 0.75, 'O': 0.73, 'F': 0.71}\n",
    "    fudge_factor = 0.05\n",
    "    atomic_radius = {k: v + fudge_factor for k, v in atomic_radius.items()}\n",
    "    print(atomic_radius)\n",
    "\n",
    "    electronegativity = {'H': 2.2, 'C': 2.55, 'N': 3.04, 'O': 3.44, 'F': 3.98}\n",
    "\n",
    "    atoms = structures['atom'].values\n",
    "    atoms_en = [electronegativity[x] for x in tqdm(atoms)] # electronegrativity\n",
    "    atoms_rad = [atomic_radius[x] for x in tqdm(atoms)]\n",
    "\n",
    "    structures['EN'] = atoms_en\n",
    "    structures['rad'] = atoms_rad\n",
    "\n",
    "    return structures"
   ]
  },
  {
   "cell_type": "code",
   "execution_count": 54,
   "metadata": {},
   "outputs": [],
   "source": [
    "def bond_length(structures):\n",
    "    i_atom = structures['atom_index'].values\n",
    "    p = structures[['x', 'y', 'z']].values\n",
    "    p_compare = p\n",
    "    m = structures['molecule_name'].values\n",
    "    m_compare = m\n",
    "    r = structures['rad'].values\n",
    "    r_compare = r\n",
    "\n",
    "    source_row = np.arange(len(structures))\n",
    "    max_atoms = 28\n",
    "\n",
    "    bonds = np.zeros((len(structures) + 1, max_atoms + 1), dtype=np.int8)\n",
    "    bond_dists = np.zeros((len(structures) + 1, max_atoms + 1), dtype=np.float32)\n",
    "\n",
    "    print('Calculating the bonds')\n",
    "\n",
    "    for i in tqdm(range(max_atoms - 1)):\n",
    "        p_compare = np.roll(p_compare, -1, axis=0)\n",
    "        m_compare = np.roll(m_compare, -1, axis=0)\n",
    "        r_compare = np.roll(r_compare, -1, axis=0)\n",
    "\n",
    "        # Are we still comparing atoms in the same molecule?\n",
    "        mask = np.where(m == m_compare, 1, 0)\n",
    "        dists = np.linalg.norm(p - p_compare, axis=1) * mask\n",
    "        r_bond = r + r_compare\n",
    "\n",
    "        bond = np.where(np.logical_and(dists > 0.0001, dists < r_bond), 1, 0)\n",
    "\n",
    "        source_row = source_row\n",
    "        # Note: Will be out of bounds of bonds array for some values of i\n",
    "        target_row = source_row + i + 1\n",
    "        # If invalid target, write to dummy row\n",
    "        target_row = np.where(np.logical_or(target_row > len(structures), mask == 0), len(structures),\n",
    "                              target_row)  # If invalid target, write to dummy row\n",
    "\n",
    "        source_atom = i_atom\n",
    "        # Note: Will be out of bounds of bonds array for some values of i\n",
    "        target_atom = i_atom + i + 1\n",
    "        # If invalid target, write to dummy col\n",
    "        target_atom = np.where(np.logical_or(target_atom > max_atoms, mask == 0), max_atoms,\n",
    "                               target_atom)\n",
    "\n",
    "        bonds[(source_row, target_atom)] = bond\n",
    "        bonds[(target_row, source_atom)] = bond\n",
    "        bond_dists[(source_row, target_atom)] = dists\n",
    "        bond_dists[(target_row, source_atom)] = dists\n",
    "\n",
    "    bonds = np.delete(bonds, axis=0, obj=-1)  # Delete dummy row\n",
    "    bonds = np.delete(bonds, axis=1, obj=-1)  # Delete dummy col\n",
    "    bond_dists = np.delete(bond_dists, axis=0, obj=-1)  # Delete dummy row\n",
    "    bond_dists = np.delete(bond_dists, axis=1, obj=-1)  # Delete dummy col\n",
    "\n",
    "    print('Counting and condensing bonds')\n",
    "\n",
    "    bonds_numeric = [[i for i, x in enumerate(row) if x] for row in tqdm(bonds)]\n",
    "    bond_lengths = [[dist for i, dist in enumerate(row) if i in bonds_numeric[j]] for j, row in\n",
    "                    enumerate(tqdm(bond_dists))]\n",
    "    bond_lengths_mean = [np.mean(x) for x in bond_lengths]\n",
    "    n_bonds = [len(x) for x in bonds_numeric]\n",
    "\n",
    "    bond_data = {'n_bonds': n_bonds, 'bond_lengths_mean': bond_lengths_mean}\n",
    "    bond_df = pd.DataFrame(bond_data)\n",
    "    structures = structures.join(bond_df)\n",
    "    # save data\n",
    "    # structures.to_csv(os.path.join(self.filepath, 'molecular_structure.csv'))\n",
    "\n",
    "    return structures"
   ]
  },
  {
   "cell_type": "code",
   "execution_count": 55,
   "metadata": {},
   "outputs": [],
   "source": [
    "# calculate bond length adopted from @Chanran Kim - Kaggle kernel\n",
    "def map_atom_info(df, atom_idx):\n",
    "    df = pd.merge(df, structures, how = 'left',\n",
    "                  left_on  = ['molecule_name', f'atom_index_{atom_idx}'],\n",
    "                  right_on = ['molecule_name',  'atom_index'])\n",
    "    \n",
    "    df = df.drop('atom_index', axis=1)\n",
    "    df = df.rename(columns={'atom': f'atom_{atom_idx}',\n",
    "                            'x': f'x_{atom_idx}',\n",
    "                            'y': f'y_{atom_idx}',\n",
    "                            'z': f'z_{atom_idx}'})\n",
    "    return df"
   ]
  },
  {
   "cell_type": "code",
   "execution_count": 56,
   "metadata": {},
   "outputs": [],
   "source": [
    "def calculate_dist(df):\n",
    "    p_0 = df[['x_0', 'y_0', 'z_0']].values\n",
    "    p_1 = df[['x_1', 'y_1', 'z_1']].values\n",
    "    df['dist'] = np.linalg.norm(p_0 - p_1, axis=1)\n",
    "    return df\n",
    "    \n",
    "def get_intervene_bonds(df):\n",
    "    J_type = df['type'].values\n",
    "    intervene_bonds = [int(item[0]) for item in tqdm(J_type)]\n",
    "    df['intervene_bonds'] = intervene_bonds    \n",
    "    return df"
   ]
  },
  {
   "cell_type": "code",
   "execution_count": 57,
   "metadata": {},
   "outputs": [],
   "source": [
    "# train.to_csv(os.path.join(dir_out, \"_train_0801.csv\"), index=False)\n",
    "# print(\"Saved training dataset to {}\".format(os.path.join(dir_out, \"_train.csv\")))\n",
    "\n",
    "# test.to_csv(os.path.join(dir_out, \"_test_0801.csv\"), index=False)\n",
    "# print(\"Saved test dataset to {}\".format(os.path.join(dir_out, \"_test.csv\")))"
   ]
  },
  {
   "cell_type": "code",
   "execution_count": 58,
   "metadata": {},
   "outputs": [],
   "source": [
    "def main(filepath):\n",
    "    # load data\n",
    "    train, test, submit, structures = load_data(filepath)\n",
    "    # add atomic radii and electronegativity\n",
    "    structures = molecule_properties(structures)\n",
    "    # calculate average bond length to each atom\n",
    "    structures = bond_length(structures)\n",
    "    # map structures to train and test \n",
    "    train = map_atom_info(train, 0)\n",
    "    train = map_atom_info(train, 1)\n",
    "    test = map_atom_info(test, 0)\n",
    "    test = map_atom_info(test, 1)\n",
    "    print(\"Calculate the distance between two atoms\") \n",
    "    train = calculate_dist(train)\n",
    "    test = calculate_dist(test)\n",
    "    # extract the number of intervening bonds\n",
    "    print('Extracting number of intervene bonds from type')\n",
    "    train = get_intervene_bonds(train)\n",
    "    test = get_intervene_bonds(test)\n",
    "    # get polarity (difference of electronegativity)\n",
    "    train['polarity'] = abs(train['EN_x'] - train['EN_y'])\n",
    "    test['polarity'] = abs(test['EN_x'] - test['EN_y'])\n",
    "    \n",
    "    return train, test"
   ]
  },
  {
   "cell_type": "code",
   "execution_count": 59,
   "metadata": {},
   "outputs": [
    {
     "name": "stderr",
     "output_type": "stream",
     "text": [
      " 18%|█▊        | 434787/2358657 [00:00<00:00, 4347863.78it/s]"
     ]
    },
    {
     "name": "stdout",
     "output_type": "stream",
     "text": [
      "Train dataset shape is -> rows: 4658147 cols:6\n",
      "Test dataset shape is  -> rows: 2505542 cols:5\n",
      "Sample submission dataset shape is  -> rows: 2505542 cols:2\n",
      "Structures dataset shape is  -> rows: 2358657 cols:6\n",
      "\n",
      "\n",
      "{'H': 0.43, 'C': 0.8200000000000001, 'N': 0.8, 'O': 0.78, 'F': 0.76}\n"
     ]
    },
    {
     "name": "stderr",
     "output_type": "stream",
     "text": [
      "100%|██████████| 2358657/2358657 [00:00<00:00, 5065462.63it/s]\n",
      "100%|██████████| 2358657/2358657 [00:00<00:00, 5248642.33it/s]\n",
      "  0%|          | 0/27 [00:00<?, ?it/s]"
     ]
    },
    {
     "name": "stdout",
     "output_type": "stream",
     "text": [
      "Calculating the bonds\n"
     ]
    },
    {
     "name": "stderr",
     "output_type": "stream",
     "text": [
      "100%|██████████| 27/27 [00:04<00:00,  5.84it/s]\n",
      "  1%|          | 29375/2358657 [00:00<00:07, 293741.18it/s]"
     ]
    },
    {
     "name": "stdout",
     "output_type": "stream",
     "text": [
      "Counting and condensing bonds\n"
     ]
    },
    {
     "name": "stderr",
     "output_type": "stream",
     "text": [
      "100%|██████████| 2358657/2358657 [00:08<00:00, 290076.91it/s]\n",
      "100%|██████████| 2358657/2358657 [00:10<00:00, 224059.60it/s]\n",
      "  0%|          | 0/4658147 [00:00<?, ?it/s]"
     ]
    },
    {
     "name": "stdout",
     "output_type": "stream",
     "text": [
      "Calculate the distance between two atoms\n",
      "Extracting number of intervene bonds from type\n"
     ]
    },
    {
     "name": "stderr",
     "output_type": "stream",
     "text": [
      "100%|██████████| 4658147/4658147 [00:01<00:00, 3695604.36it/s]\n",
      "100%|██████████| 2505542/2505542 [00:00<00:00, 3524170.13it/s]\n"
     ]
    }
   ],
   "source": [
    "train, test = main(filepath)"
   ]
  },
  {
   "cell_type": "code",
   "execution_count": 60,
   "metadata": {},
   "outputs": [
    {
     "data": {
      "text/html": [
       "<div>\n",
       "<style scoped>\n",
       "    .dataframe tbody tr th:only-of-type {\n",
       "        vertical-align: middle;\n",
       "    }\n",
       "\n",
       "    .dataframe tbody tr th {\n",
       "        vertical-align: top;\n",
       "    }\n",
       "\n",
       "    .dataframe thead th {\n",
       "        text-align: right;\n",
       "    }\n",
       "</style>\n",
       "<table border=\"1\" class=\"dataframe\">\n",
       "  <thead>\n",
       "    <tr style=\"text-align: right;\">\n",
       "      <th></th>\n",
       "      <th>molecule_name</th>\n",
       "      <th>atom_index</th>\n",
       "      <th>atom</th>\n",
       "      <th>x</th>\n",
       "      <th>y</th>\n",
       "      <th>z</th>\n",
       "      <th>EN</th>\n",
       "      <th>rad</th>\n",
       "      <th>n_bonds</th>\n",
       "      <th>bond_lengths_mean</th>\n",
       "    </tr>\n",
       "  </thead>\n",
       "  <tbody>\n",
       "    <tr>\n",
       "      <th>0</th>\n",
       "      <td>dsgdb9nsd_000001</td>\n",
       "      <td>0</td>\n",
       "      <td>C</td>\n",
       "      <td>-0.012698</td>\n",
       "      <td>1.085804</td>\n",
       "      <td>0.008001</td>\n",
       "      <td>2.55</td>\n",
       "      <td>0.82</td>\n",
       "      <td>4</td>\n",
       "      <td>1.091950</td>\n",
       "    </tr>\n",
       "    <tr>\n",
       "      <th>1</th>\n",
       "      <td>dsgdb9nsd_000001</td>\n",
       "      <td>1</td>\n",
       "      <td>H</td>\n",
       "      <td>0.002150</td>\n",
       "      <td>-0.006031</td>\n",
       "      <td>0.001976</td>\n",
       "      <td>2.20</td>\n",
       "      <td>0.43</td>\n",
       "      <td>1</td>\n",
       "      <td>1.091953</td>\n",
       "    </tr>\n",
       "    <tr>\n",
       "      <th>2</th>\n",
       "      <td>dsgdb9nsd_000001</td>\n",
       "      <td>2</td>\n",
       "      <td>H</td>\n",
       "      <td>1.011731</td>\n",
       "      <td>1.463751</td>\n",
       "      <td>0.000277</td>\n",
       "      <td>2.20</td>\n",
       "      <td>0.43</td>\n",
       "      <td>1</td>\n",
       "      <td>1.091952</td>\n",
       "    </tr>\n",
       "    <tr>\n",
       "      <th>3</th>\n",
       "      <td>dsgdb9nsd_000001</td>\n",
       "      <td>3</td>\n",
       "      <td>H</td>\n",
       "      <td>-0.540815</td>\n",
       "      <td>1.447527</td>\n",
       "      <td>-0.876644</td>\n",
       "      <td>2.20</td>\n",
       "      <td>0.43</td>\n",
       "      <td>1</td>\n",
       "      <td>1.091946</td>\n",
       "    </tr>\n",
       "    <tr>\n",
       "      <th>4</th>\n",
       "      <td>dsgdb9nsd_000001</td>\n",
       "      <td>4</td>\n",
       "      <td>H</td>\n",
       "      <td>-0.523814</td>\n",
       "      <td>1.437933</td>\n",
       "      <td>0.906397</td>\n",
       "      <td>2.20</td>\n",
       "      <td>0.43</td>\n",
       "      <td>1</td>\n",
       "      <td>1.091948</td>\n",
       "    </tr>\n",
       "  </tbody>\n",
       "</table>\n",
       "</div>"
      ],
      "text/plain": [
       "      molecule_name  atom_index atom         x         y         z    EN  \\\n",
       "0  dsgdb9nsd_000001           0    C -0.012698  1.085804  0.008001  2.55   \n",
       "1  dsgdb9nsd_000001           1    H  0.002150 -0.006031  0.001976  2.20   \n",
       "2  dsgdb9nsd_000001           2    H  1.011731  1.463751  0.000277  2.20   \n",
       "3  dsgdb9nsd_000001           3    H -0.540815  1.447527 -0.876644  2.20   \n",
       "4  dsgdb9nsd_000001           4    H -0.523814  1.437933  0.906397  2.20   \n",
       "\n",
       "    rad  n_bonds  bond_lengths_mean  \n",
       "0  0.82        4           1.091950  \n",
       "1  0.43        1           1.091953  \n",
       "2  0.43        1           1.091952  \n",
       "3  0.43        1           1.091946  \n",
       "4  0.43        1           1.091948  "
      ]
     },
     "execution_count": 60,
     "metadata": {},
     "output_type": "execute_result"
    }
   ],
   "source": [
    "structures.head()"
   ]
  }
 ],
 "metadata": {
  "kernelspec": {
   "display_name": "Python 3",
   "language": "python",
   "name": "python3"
  },
  "language_info": {
   "codemirror_mode": {
    "name": "ipython",
    "version": 3
   },
   "file_extension": ".py",
   "mimetype": "text/x-python",
   "name": "python",
   "nbconvert_exporter": "python",
   "pygments_lexer": "ipython3",
   "version": "3.7.3"
  }
 },
 "nbformat": 4,
 "nbformat_minor": 2
}
