{
 "cells": [
  {
   "cell_type": "code",
   "execution_count": 13,
   "metadata": {},
   "outputs": [],
   "source": [
    "import numpy as np\n",
    "import pandas as pd\n",
    "import os\n",
    "from tqdm import tqdm"
   ]
  },
  {
   "cell_type": "code",
   "execution_count": 15,
   "metadata": {},
   "outputs": [
    {
     "name": "stdout",
     "output_type": "stream",
     "text": [
      "Train dataset shape is -> rows: 4658147 cols:6\n",
      "Test dataset shape is  -> rows: 2505542 cols:5\n",
      "Sample submission dataset shape is  -> rows: 2505542 cols:2\n",
      "Structures dataset shape is  -> rows: 2358657 cols:6\n",
      "\n",
      "\n"
     ]
    }
   ],
   "source": [
    "if 'ygong' in os.getcwd():\n",
    "    filepath = \"../data\"\n",
    "    dir_out = \"../output\"\n",
    "else:\n",
    "    filepath = \"/home/gong/Documents/Kaggle_July2019/data\"\n",
    "    dir_out = \"/home/gong/Documents/Kaggle_July2019/output\"\n",
    "\n",
    "def load_data(filepath):\n",
    "    train = pd.read_csv(os.path.join(filepath, 'train.csv'))\n",
    "    test = pd.read_csv(os.path.join(filepath, 'test.csv'))\n",
    "    submit = pd.read_csv(os.path.join(filepath, 'sample_submission.csv'))\n",
    "    structures = pd.read_csv(os.path.join(filepath, 'structures.csv'))\n",
    "\n",
    "    print('Train dataset shape is -> rows: {} cols:{}'.format(train.shape[0], train.shape[1]))\n",
    "    print('Test dataset shape is  -> rows: {} cols:{}'.format(test.shape[0], test.shape[1]))\n",
    "    print('Sample submission dataset shape is  -> rows: {} cols:{}'.format(submit.shape[0], submit.shape[1]))\n",
    "    print('Structures dataset shape is  -> rows: {} cols:{}'.format(structures.shape[0], structures.shape[1]))\n",
    "    print('\\n')\n",
    "\n",
    "    return train, test, submit, structures\n",
    "\n",
    "train, test, submit, structures = load_data(filepath)"
   ]
  },
  {
   "cell_type": "code",
   "execution_count": 16,
   "metadata": {},
   "outputs": [
    {
     "name": "stderr",
     "output_type": "stream",
     "text": [
      "  6%|▌         | 143578/2358657 [00:00<00:01, 1435777.95it/s]"
     ]
    },
    {
     "name": "stdout",
     "output_type": "stream",
     "text": [
      "{'H': 0.43, 'C': 0.8200000000000001, 'N': 0.8, 'O': 0.78, 'F': 0.76}\n"
     ]
    },
    {
     "name": "stderr",
     "output_type": "stream",
     "text": [
      "100%|██████████| 2358657/2358657 [00:01<00:00, 1921081.18it/s]\n",
      "100%|██████████| 2358657/2358657 [00:01<00:00, 1873351.26it/s]\n"
     ]
    }
   ],
   "source": [
    "def molecule_properties(structures):\n",
    "    atomic_radius = {'H': 0.38, 'C': 0.77, 'N': 0.75, 'O': 0.73, 'F': 0.71}\n",
    "    fudge_factor = 0.05\n",
    "    atomic_radius = {k: v + fudge_factor for k, v in atomic_radius.items()}\n",
    "    print(atomic_radius)\n",
    "\n",
    "    electronegativity = {'H': 2.2, 'C': 2.55, 'N': 3.04, 'O': 3.44, 'F': 3.98}\n",
    "\n",
    "    atoms = structures['atom'].values\n",
    "    atoms_en = [electronegativity[x] for x in tqdm(atoms)] # electronegrativity\n",
    "    atoms_rad = [atomic_radius[x] for x in tqdm(atoms)]\n",
    "\n",
    "    structures['EN'] = atoms_en\n",
    "    structures['rad'] = atoms_rad\n",
    "\n",
    "    return structures\n",
    "\n",
    "structures = molecule_properties(structures)"
   ]
  },
  {
   "cell_type": "code",
   "execution_count": 17,
   "metadata": {},
   "outputs": [
    {
     "name": "stderr",
     "output_type": "stream",
     "text": [
      "  0%|          | 0/27 [00:00<?, ?it/s]"
     ]
    },
    {
     "name": "stdout",
     "output_type": "stream",
     "text": [
      "Calculating the bonds\n"
     ]
    },
    {
     "name": "stderr",
     "output_type": "stream",
     "text": [
      "100%|██████████| 27/27 [00:13<00:00,  2.15it/s]\n",
      "  1%|          | 22693/2358657 [00:00<00:20, 112568.29it/s]"
     ]
    },
    {
     "name": "stdout",
     "output_type": "stream",
     "text": [
      "Counting and condensing bonds\n"
     ]
    },
    {
     "name": "stderr",
     "output_type": "stream",
     "text": [
      "100%|██████████| 2358657/2358657 [00:21<00:00, 108565.91it/s]\n",
      "100%|██████████| 2358657/2358657 [00:28<00:00, 82228.23it/s]\n"
     ]
    }
   ],
   "source": [
    "def bond_length(structures):\n",
    "    i_atom = structures['atom_index'].values\n",
    "    p = structures[['x', 'y', 'z']].values\n",
    "    p_compare = p\n",
    "    m = structures['molecule_name'].values\n",
    "    m_compare = m\n",
    "    r = structures['rad'].values\n",
    "    r_compare = r\n",
    "\n",
    "    source_row = np.arange(len(structures))\n",
    "    max_atoms = 28\n",
    "\n",
    "    bonds = np.zeros((len(structures) + 1, max_atoms + 1), dtype=np.int8)\n",
    "    bond_dists = np.zeros((len(structures) + 1, max_atoms + 1), dtype=np.float32)\n",
    "\n",
    "    print('Calculating the bonds')\n",
    "\n",
    "    for i in tqdm(range(max_atoms - 1)):\n",
    "        p_compare = np.roll(p_compare, -1, axis=0)\n",
    "        m_compare = np.roll(m_compare, -1, axis=0)\n",
    "        r_compare = np.roll(r_compare, -1, axis=0)\n",
    "\n",
    "        # Are we still comparing atoms in the same molecule?\n",
    "        mask = np.where(m == m_compare, 1, 0)\n",
    "        dists = np.linalg.norm(p - p_compare, axis=1) * mask\n",
    "        r_bond = r + r_compare\n",
    "\n",
    "        bond = np.where(np.logical_and(dists > 0.0001, dists < r_bond), 1, 0)\n",
    "\n",
    "        source_row = source_row\n",
    "        # Note: Will be out of bounds of bonds array for some values of i\n",
    "        target_row = source_row + i + 1\n",
    "        # If invalid target, write to dummy row\n",
    "        target_row = np.where(np.logical_or(target_row > len(structures), mask == 0), len(structures),\n",
    "                              target_row)  # If invalid target, write to dummy row\n",
    "\n",
    "        source_atom = i_atom\n",
    "        # Note: Will be out of bounds of bonds array for some values of i\n",
    "        target_atom = i_atom + i + 1\n",
    "        # If invalid target, write to dummy col\n",
    "        target_atom = np.where(np.logical_or(target_atom > max_atoms, mask == 0), max_atoms,\n",
    "                               target_atom)\n",
    "\n",
    "        bonds[(source_row, target_atom)] = bond\n",
    "        bonds[(target_row, source_atom)] = bond\n",
    "        bond_dists[(source_row, target_atom)] = dists\n",
    "        bond_dists[(target_row, source_atom)] = dists\n",
    "\n",
    "    bonds = np.delete(bonds, axis=0, obj=-1)  # Delete dummy row\n",
    "    bonds = np.delete(bonds, axis=1, obj=-1)  # Delete dummy col\n",
    "    bond_dists = np.delete(bond_dists, axis=0, obj=-1)  # Delete dummy row\n",
    "    bond_dists = np.delete(bond_dists, axis=1, obj=-1)  # Delete dummy col\n",
    "\n",
    "    print('Counting and condensing bonds')\n",
    "\n",
    "    bonds_numeric = [[i for i, x in enumerate(row) if x] for row in tqdm(bonds)]\n",
    "    bond_lengths = [[dist for i, dist in enumerate(row) if i in bonds_numeric[j]] for j, row in\n",
    "                    enumerate(tqdm(bond_dists))]\n",
    "    bond_lengths_mean = [np.mean(x) for x in bond_lengths]\n",
    "    n_bonds = [len(x) for x in bonds_numeric]\n",
    "\n",
    "    bond_data = {'n_bonds': n_bonds, 'bond_lengths_mean': bond_lengths_mean}\n",
    "    bond_df = pd.DataFrame(bond_data)\n",
    "    structures = structures.join(bond_df)\n",
    "    # save data\n",
    "    # structures.to_csv(os.path.join(self.filepath, 'molecular_structure.csv'))\n",
    "\n",
    "    return structures\n",
    "\n",
    "structures = bond_length(structures)"
   ]
  },
  {
   "cell_type": "code",
   "execution_count": 18,
   "metadata": {},
   "outputs": [],
   "source": [
    "# calculate bond length adopted from @Chanran Kim - Kaggle kernel\n",
    "def map_atom_info(df, atom_idx, structures):\n",
    "    df = pd.merge(df, structures, how = 'left',\n",
    "                  left_on  = ['molecule_name', f'atom_index_{atom_idx}'],\n",
    "                  right_on = ['molecule_name',  'atom_index'])\n",
    "    \n",
    "    df = df.drop('atom_index', axis=1)\n",
    "    df = df.rename(columns={'atom': f'atom_{atom_idx}',\n",
    "                            'x': f'x_{atom_idx}',\n",
    "                            'y': f'y_{atom_idx}',\n",
    "                            'z': f'z_{atom_idx}'})\n",
    "    return df\n",
    "\n",
    "train = map_atom_info(train, 0, structures)\n",
    "train = map_atom_info(train, 1, structures)\n",
    "test = map_atom_info(test, 0, structures)\n",
    "test = map_atom_info(test, 1, structures)"
   ]
  },
  {
   "cell_type": "code",
   "execution_count": 19,
   "metadata": {},
   "outputs": [
    {
     "name": "stdout",
     "output_type": "stream",
     "text": [
      "Calculate the distance between two atoms\n"
     ]
    },
    {
     "name": "stderr",
     "output_type": "stream",
     "text": [
      "  4%|▍         | 205319/4658147 [00:00<00:04, 1018081.45it/s]"
     ]
    },
    {
     "name": "stdout",
     "output_type": "stream",
     "text": [
      "Extracting number of intervene bonds from type\n"
     ]
    },
    {
     "name": "stderr",
     "output_type": "stream",
     "text": [
      "100%|██████████| 4658147/4658147 [00:03<00:00, 1281324.16it/s]\n",
      "100%|██████████| 2505542/2505542 [00:02<00:00, 1183030.83it/s]\n"
     ]
    }
   ],
   "source": [
    "def calculate_dist(df):\n",
    "    p_0 = df[['x_0', 'y_0', 'z_0']].values\n",
    "    p_1 = df[['x_1', 'y_1', 'z_1']].values\n",
    "    df['dist'] = np.linalg.norm(p_0 - p_1, axis=1)\n",
    "    return df\n",
    "    \n",
    "def get_intervene_bonds(df):\n",
    "    J_type = df['type'].values\n",
    "    intervene_bonds = [int(item[0]) for item in tqdm(J_type)]\n",
    "    df['intervene_bonds'] = intervene_bonds    \n",
    "    return df\n",
    "\n",
    "print(\"Calculate the distance between two atoms\")\n",
    "train = calculate_dist(train)\n",
    "test = calculate_dist(test)\n",
    "\n",
    "# extract the number of intervening bonds\n",
    "print('Extracting number of intervene bonds from type')\n",
    "train = get_intervene_bonds(train)\n",
    "test = get_intervene_bonds(test)"
   ]
  },
  {
   "cell_type": "code",
   "execution_count": 23,
   "metadata": {},
   "outputs": [
    {
     "ename": "ModuleNotFoundError",
     "evalue": "No module named 'openbabel'",
     "output_type": "error",
     "traceback": [
      "\u001b[0;31m---------------------------------------------------------------------------\u001b[0m",
      "\u001b[0;31mModuleNotFoundError\u001b[0m                       Traceback (most recent call last)",
      "\u001b[0;32m<ipython-input-23-99552a112fcf>\u001b[0m in \u001b[0;36m<module>\u001b[0;34m\u001b[0m\n\u001b[0;32m----> 1\u001b[0;31m \u001b[0;32mimport\u001b[0m \u001b[0mopenbabel\u001b[0m\u001b[0;34m\u001b[0m\u001b[0;34m\u001b[0m\u001b[0m\n\u001b[0m",
      "\u001b[0;31mModuleNotFoundError\u001b[0m: No module named 'openbabel'"
     ]
    }
   ],
   "source": [
    "import openbabel"
   ]
  },
  {
   "cell_type": "code",
   "execution_count": 57,
   "metadata": {},
   "outputs": [],
   "source": [
    "train.to_csv(os.path.join(dir_out, \"_train_0802.csv\"), index=False)\n",
    "print(\"Saved training dataset to {}\".format(os.path.join(dir_out, \"_train.csv\")))\n",
    "\n",
    "test.to_csv(os.path.join(dir_out, \"_test_0802.csv\"), index=False)\n",
    "print(\"Saved test dataset to {}\".format(os.path.join(dir_out, \"_test.csv\")))"
   ]
  }
 ],
 "metadata": {
  "kernelspec": {
   "display_name": "Python 3",
   "language": "python",
   "name": "python3"
  },
  "language_info": {
   "codemirror_mode": {
    "name": "ipython",
    "version": 3
   },
   "file_extension": ".py",
   "mimetype": "text/x-python",
   "name": "python",
   "nbconvert_exporter": "python",
   "pygments_lexer": "ipython3",
   "version": "3.7.2"
  }
 },
 "nbformat": 4,
 "nbformat_minor": 2
}
