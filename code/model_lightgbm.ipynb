{
 "cells": [
  {
   "cell_type": "code",
   "execution_count": 1,
   "metadata": {},
   "outputs": [],
   "source": [
    "import lightgbm as lgb\n",
    "from sklearn import datasets\n",
    "import pandas as pd\n",
    "import numpy as np\n",
    "import matplotlib.pyplot as plt\n",
    "import os\n",
    "from sklearn.model_selection import train_test_split\n",
    "from sklearn.metrics import mean_absolute_error\n",
    "from sklearn.model_selection import KFold"
   ]
  },
  {
   "cell_type": "code",
   "execution_count": 2,
   "metadata": {},
   "outputs": [],
   "source": [
    "if 'ygong' in os.getcwd():\n",
    "    filepath = \"../data\"\n",
    "    dir_out = \"../output\"\n",
    "else:\n",
    "    filepath = \"/home/gong/Documents/Kaggle_July2019/data\"\n",
    "    dir_out = \"/home/gong/Documents/Kaggle_July2019/output\""
   ]
  },
  {
   "cell_type": "code",
   "execution_count": 3,
   "metadata": {},
   "outputs": [
    {
     "name": "stdout",
     "output_type": "stream",
     "text": [
      "Train dataset shape is now rows: 4658147 cols:22\n"
     ]
    }
   ],
   "source": [
    "data = pd.read_csv(os.path.join(dir_out, '_train.csv'))\n",
    "data_submit = pd.read_csv(os.path.join(dir_out, '_test.csv'))\n",
    "print('Train dataset shape is now rows: {} cols:{}'.format(data.shape[0], data.shape[1]))\n",
    "X = data.drop(columns=['scalar_coupling_constant'])\n",
    "y = data['scalar_coupling_constant']\n",
    "#     X_train, X_test, y_train, y_test = train_test_split(X, y, test_size=0.33, random_state=42)"
   ]
  },
  {
   "cell_type": "code",
   "execution_count": 4,
   "metadata": {},
   "outputs": [],
   "source": [
    "train_0730 = pd.read_csv(os.path.join(dir_out, '_train_0730.csv'))\n",
    "test_0730 = pd.read_csv(os.path.join(dir_out, '_test_0730.csv'))"
   ]
  },
  {
   "cell_type": "code",
   "execution_count": 5,
   "metadata": {},
   "outputs": [
    {
     "data": {
      "text/html": [
       "<div>\n",
       "<style scoped>\n",
       "    .dataframe tbody tr th:only-of-type {\n",
       "        vertical-align: middle;\n",
       "    }\n",
       "\n",
       "    .dataframe tbody tr th {\n",
       "        vertical-align: top;\n",
       "    }\n",
       "\n",
       "    .dataframe thead th {\n",
       "        text-align: right;\n",
       "    }\n",
       "</style>\n",
       "<table border=\"1\" class=\"dataframe\">\n",
       "  <thead>\n",
       "    <tr style=\"text-align: right;\">\n",
       "      <th></th>\n",
       "      <th>id</th>\n",
       "      <th>molecule_name</th>\n",
       "      <th>atom_index_0</th>\n",
       "      <th>atom_index_1</th>\n",
       "      <th>type</th>\n",
       "      <th>scalar_coupling_constant</th>\n",
       "      <th>n_bonds</th>\n",
       "      <th>type_bond</th>\n",
       "      <th>cov</th>\n",
       "      <th>atom_0</th>\n",
       "      <th>x_0</th>\n",
       "      <th>y_0</th>\n",
       "      <th>z_0</th>\n",
       "      <th>atom_1</th>\n",
       "      <th>x_1</th>\n",
       "      <th>y_1</th>\n",
       "      <th>z_1</th>\n",
       "      <th>dist</th>\n",
       "    </tr>\n",
       "  </thead>\n",
       "  <tbody>\n",
       "    <tr>\n",
       "      <th>0</th>\n",
       "      <td>0</td>\n",
       "      <td>dsgdb9nsd_000001</td>\n",
       "      <td>1</td>\n",
       "      <td>0</td>\n",
       "      <td>1JHC</td>\n",
       "      <td>84.8076</td>\n",
       "      <td>1</td>\n",
       "      <td>HC</td>\n",
       "      <td>1</td>\n",
       "      <td>H</td>\n",
       "      <td>0.002150</td>\n",
       "      <td>-0.006031</td>\n",
       "      <td>0.001976</td>\n",
       "      <td>C</td>\n",
       "      <td>-0.012698</td>\n",
       "      <td>1.085804</td>\n",
       "      <td>0.008001</td>\n",
       "      <td>1.091953</td>\n",
       "    </tr>\n",
       "    <tr>\n",
       "      <th>1</th>\n",
       "      <td>1</td>\n",
       "      <td>dsgdb9nsd_000001</td>\n",
       "      <td>1</td>\n",
       "      <td>2</td>\n",
       "      <td>2JHH</td>\n",
       "      <td>-11.2570</td>\n",
       "      <td>2</td>\n",
       "      <td>HH</td>\n",
       "      <td>0</td>\n",
       "      <td>H</td>\n",
       "      <td>0.002150</td>\n",
       "      <td>-0.006031</td>\n",
       "      <td>0.001976</td>\n",
       "      <td>H</td>\n",
       "      <td>1.011731</td>\n",
       "      <td>1.463751</td>\n",
       "      <td>0.000277</td>\n",
       "      <td>1.783120</td>\n",
       "    </tr>\n",
       "    <tr>\n",
       "      <th>2</th>\n",
       "      <td>2</td>\n",
       "      <td>dsgdb9nsd_000001</td>\n",
       "      <td>1</td>\n",
       "      <td>3</td>\n",
       "      <td>2JHH</td>\n",
       "      <td>-11.2548</td>\n",
       "      <td>2</td>\n",
       "      <td>HH</td>\n",
       "      <td>0</td>\n",
       "      <td>H</td>\n",
       "      <td>0.002150</td>\n",
       "      <td>-0.006031</td>\n",
       "      <td>0.001976</td>\n",
       "      <td>H</td>\n",
       "      <td>-0.540815</td>\n",
       "      <td>1.447527</td>\n",
       "      <td>-0.876644</td>\n",
       "      <td>1.783147</td>\n",
       "    </tr>\n",
       "    <tr>\n",
       "      <th>3</th>\n",
       "      <td>3</td>\n",
       "      <td>dsgdb9nsd_000001</td>\n",
       "      <td>1</td>\n",
       "      <td>4</td>\n",
       "      <td>2JHH</td>\n",
       "      <td>-11.2543</td>\n",
       "      <td>2</td>\n",
       "      <td>HH</td>\n",
       "      <td>0</td>\n",
       "      <td>H</td>\n",
       "      <td>0.002150</td>\n",
       "      <td>-0.006031</td>\n",
       "      <td>0.001976</td>\n",
       "      <td>H</td>\n",
       "      <td>-0.523814</td>\n",
       "      <td>1.437933</td>\n",
       "      <td>0.906397</td>\n",
       "      <td>1.783157</td>\n",
       "    </tr>\n",
       "    <tr>\n",
       "      <th>4</th>\n",
       "      <td>4</td>\n",
       "      <td>dsgdb9nsd_000001</td>\n",
       "      <td>2</td>\n",
       "      <td>0</td>\n",
       "      <td>1JHC</td>\n",
       "      <td>84.8074</td>\n",
       "      <td>1</td>\n",
       "      <td>HC</td>\n",
       "      <td>1</td>\n",
       "      <td>H</td>\n",
       "      <td>1.011731</td>\n",
       "      <td>1.463751</td>\n",
       "      <td>0.000277</td>\n",
       "      <td>C</td>\n",
       "      <td>-0.012698</td>\n",
       "      <td>1.085804</td>\n",
       "      <td>0.008001</td>\n",
       "      <td>1.091952</td>\n",
       "    </tr>\n",
       "  </tbody>\n",
       "</table>\n",
       "</div>"
      ],
      "text/plain": [
       "   id     molecule_name  atom_index_0  atom_index_1  type  \\\n",
       "0   0  dsgdb9nsd_000001             1             0  1JHC   \n",
       "1   1  dsgdb9nsd_000001             1             2  2JHH   \n",
       "2   2  dsgdb9nsd_000001             1             3  2JHH   \n",
       "3   3  dsgdb9nsd_000001             1             4  2JHH   \n",
       "4   4  dsgdb9nsd_000001             2             0  1JHC   \n",
       "\n",
       "   scalar_coupling_constant  n_bonds type_bond  cov atom_0       x_0  \\\n",
       "0                   84.8076        1        HC    1      H  0.002150   \n",
       "1                  -11.2570        2        HH    0      H  0.002150   \n",
       "2                  -11.2548        2        HH    0      H  0.002150   \n",
       "3                  -11.2543        2        HH    0      H  0.002150   \n",
       "4                   84.8074        1        HC    1      H  1.011731   \n",
       "\n",
       "        y_0       z_0 atom_1       x_1       y_1       z_1      dist  \n",
       "0 -0.006031  0.001976      C -0.012698  1.085804  0.008001  1.091953  \n",
       "1 -0.006031  0.001976      H  1.011731  1.463751  0.000277  1.783120  \n",
       "2 -0.006031  0.001976      H -0.540815  1.447527 -0.876644  1.783147  \n",
       "3 -0.006031  0.001976      H -0.523814  1.437933  0.906397  1.783157  \n",
       "4  1.463751  0.000277      C -0.012698  1.085804  0.008001  1.091952  "
      ]
     },
     "execution_count": 5,
     "metadata": {},
     "output_type": "execute_result"
    }
   ],
   "source": [
    "train_0730.head()"
   ]
  },
  {
   "cell_type": "code",
   "execution_count": 8,
   "metadata": {},
   "outputs": [],
   "source": [
    "X['n_bonds'] = train_0730['n_bonds']\n",
    "X['dist'] = train_0730['dist']\n",
    "X['cov'] = train_0730['cov']\n",
    "data_submit['n_bonds'] = test_0730['n_bonds']\n",
    "data_submit['dist'] = test_0730['dist']\n",
    "data_submit['cov'] = test_0730['cov']"
   ]
  },
  {
   "cell_type": "code",
   "execution_count": 14,
   "metadata": {},
   "outputs": [],
   "source": [
    "train = X.copy()\n",
    "train['scalar_coupling_constant'] = y\n",
    "train.to_csv(os.path.join(dir_out, '_train0731.csv'))\n",
    "data_submit.to_csv(os.path.join(dir_out, '_test0731.csv'))"
   ]
  },
  {
   "cell_type": "code",
   "execution_count": 10,
   "metadata": {},
   "outputs": [
    {
     "name": "stdout",
     "output_type": "stream",
     "text": [
      "Train Index:  [ 465815  465816  465817 ... 4658144 4658145 4658146]\n",
      "Test Index:  [     0      1      2 ... 465812 465813 465814] \n",
      "\n",
      "Train Index:  [      0       1       2 ... 4658144 4658145 4658146]\n",
      "Test Index:  [465815 465816 465817 ... 931627 931628 931629] \n",
      "\n",
      "Train Index:  [      0       1       2 ... 4658144 4658145 4658146]\n",
      "Test Index:  [ 931630  931631  931632 ... 1397442 1397443 1397444] \n",
      "\n",
      "Train Index:  [      0       1       2 ... 4658144 4658145 4658146]\n",
      "Test Index:  [1397445 1397446 1397447 ... 1863257 1863258 1863259] \n",
      "\n",
      "Train Index:  [      0       1       2 ... 4658144 4658145 4658146]\n",
      "Test Index:  [1863260 1863261 1863262 ... 2329072 2329073 2329074] \n",
      "\n",
      "Train Index:  [      0       1       2 ... 4658144 4658145 4658146]\n",
      "Test Index:  [2329075 2329076 2329077 ... 2794887 2794888 2794889] \n",
      "\n",
      "Train Index:  [      0       1       2 ... 4658144 4658145 4658146]\n",
      "Test Index:  [2794890 2794891 2794892 ... 3260702 3260703 3260704] \n",
      "\n",
      "Train Index:  [      0       1       2 ... 4658144 4658145 4658146]\n",
      "Test Index:  [3260705 3260706 3260707 ... 3726516 3726517 3726518] \n",
      "\n",
      "Train Index:  [      0       1       2 ... 4658144 4658145 4658146]\n",
      "Test Index:  [3726519 3726520 3726521 ... 4192330 4192331 4192332] \n",
      "\n",
      "Train Index:  [      0       1       2 ... 4192330 4192331 4192332]\n",
      "Test Index:  [4192333 4192334 4192335 ... 4658144 4658145 4658146] \n",
      "\n",
      "scores: \n",
      " [0.9958403103577341, 0.9947909329886897, 0.9929137787334493, 0.9945158475885878, 0.9950107316694118, 0.9939910737735147, 0.9946863249817381, 0.9956556119334274, 0.9951467164963735, 0.9955865366241233]\n"
     ]
    }
   ],
   "source": [
    "# cross-validation\n",
    "params = {'num_leaves': 50, \n",
    "          'min_child_samples': 79,\n",
    "          'min_data_in_leaf': 100,\n",
    "          'objective': 'regression',\n",
    "          'max_depth': 9,\n",
    "          'learning_rate': 0.2,\n",
    "          \"boosting_type\": \"gbdt\",\n",
    "          \"subsample_freq\": 1,\n",
    "          \"subsample\": 0.9,\n",
    "          \"metric\": 'mae',\n",
    "          \"verbosity\": -1,\n",
    "          'reg_alpha': 0.1,\n",
    "          'reg_lambda': 0.3,\n",
    "          'colsample_bytree': 1.0,\n",
    "         }\n",
    "\n",
    "reg_model = lgb.LGBMRegressor(**params)\n",
    "scores = []\n",
    "cv = KFold(n_splits=10, random_state=42)\n",
    "for train_index, test_index in cv.split(X):\n",
    "    print(\"Train Index: \", train_index)\n",
    "    print(\"Test Index: \", test_index, \"\\n\")\n",
    "\n",
    "    X_train, X_test, y_train, y_test = X.iloc[train_index], X.iloc[test_index], y.iloc[train_index], y.iloc[test_index]\n",
    "    reg_model.fit(X_train, y_train)\n",
    "    scores.append(reg_model.score(X_test, y_test))\n",
    "print('scores: \\n {}'.format(scores))"
   ]
  },
  {
   "cell_type": "code",
   "execution_count": 11,
   "metadata": {},
   "outputs": [
    {
     "name": "stdout",
     "output_type": "stream",
     "text": [
      "Train score: 0.9950148680738179\n",
      "Test score: 0.9955865366241233\n"
     ]
    },
    {
     "data": {
      "image/png": "[encoded data removed]",
      "text/plain": [
       "<Figure size 1152x864 with 1 Axes>"
      ]
     },
     "metadata": {
      "needs_background": "light"
     },
     "output_type": "display_data"
    },
    {
     "name": "stdout",
     "output_type": "stream",
     "text": [
      "The mean absolute deviation is 0.4668750741882761\n"
     ]
    }
   ],
   "source": [
    "y_predict = reg_model.predict(X_test)\n",
    "print('Train score: {}'.format(reg_model.score(X_train, y_train)))\n",
    "print('Test score: {}'.format(reg_model.score(X_test, y_test)))\n",
    "\n",
    "fig, axes = plt.subplots()\n",
    "fig.set_size_inches(16, 12)\n",
    "lgb.plot_importance(reg_model, ax=axes)\n",
    "plt.show()\n",
    "\n",
    "# print MAE\n",
    "error = mean_absolute_error(y_test, y_predict)\n",
    "print('The mean absolute deviation is {}'.format(np.log(error)))"
   ]
  },
  {
   "cell_type": "code",
   "execution_count": 12,
   "metadata": {},
   "outputs": [],
   "source": [
    "y_predict_lgb = reg_model.predict(data_submit)\n",
    "submit = pd.read_csv(os.path.join(filepath, 'sample_submission.csv')).drop(columns='scalar_coupling_constant')\n",
    "submit['scalar_coupling_constant'] = y_predict_lgb\n",
    "submit.to_csv(os.path.join(dir_out, 'submission.csv'), index=False)"
   ]
  },
  {
   "cell_type": "code",
   "execution_count": 13,
   "metadata": {},
   "outputs": [
    {
     "name": "stdout",
     "output_type": "stream",
     "text": [
      "b'/home/gong/Documents/Kaggle_July2019/code\\n'\n"
     ]
    },
    {
     "data": {
      "text/plain": [
       "1"
      ]
     },
     "execution_count": 13,
     "metadata": {},
     "output_type": "execute_result"
    }
   ],
   "source": [
    "import subprocess\n",
    "#subprocess.check_output(['ls','-l']) #all that is technically needed...\n",
    "print(subprocess.check_output(['pwd']))\n",
    "subprocess.call(['sh', './submit.sh'])"
   ]
  }
 ],
 "metadata": {
  "kernelspec": {
   "display_name": "Python 3",
   "language": "python",
   "name": "python3"
  },
  "language_info": {
   "codemirror_mode": {
    "name": "ipython",
    "version": 3
   },
   "file_extension": ".py",
   "mimetype": "text/x-python",
   "name": "python",
   "nbconvert_exporter": "python",
   "pygments_lexer": "ipython3",
   "version": "3.7.3"
  }
 },
 "nbformat": 4,
 "nbformat_minor": 2
}
