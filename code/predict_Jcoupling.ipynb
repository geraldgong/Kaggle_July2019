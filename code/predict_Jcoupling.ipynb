{
 "cells": [
  {
   "cell_type": "code",
   "execution_count": 93,
   "metadata": {},
   "outputs": [],
   "source": [
    "import numpy as np\n",
    "import pandas as pd\n",
    "import matplotlib.pyplot as plt\n",
    "import os\n",
    "import xgboost as xgb\n",
    "%matplotlib inline"
   ]
  },
  {
   "cell_type": "code",
   "execution_count": 94,
   "metadata": {},
   "outputs": [],
   "source": [
    "if 'ygong' in os.getcwd():\n",
    "    filepath = \"../data\"\n",
    "    dir_out = \"../data/output\"\n",
    "else:\n",
    "    filepath = \"/home/gong/Documents/Kaggle_July2019\"\n",
    "    dir_out = \"/home/gong/Documents/Kaggle_July2019/output\""
   ]
  },
  {
   "cell_type": "code",
   "execution_count": 96,
   "metadata": {},
   "outputs": [],
   "source": [
    "def prepare_train():\n",
    "    train = pd.read_csv(os.path.join(dir_out, '_train.csv')).drop(columns='Unnamed: 0')\n",
    "    test = pd.read_csv(os.path.join(dir_out, '_test.csv')).drop(columns='Unnamed: 0')\n",
    "    #Get only 10% of dataset for fast evaluation!\n",
    "#     size = round(0.10 * train.shape[0])\n",
    "#     train = train[:size]\n",
    "    print('Train dataset shape is now rows: {} cols:{}'.format(train.shape[0], train.shape[1]))\n",
    "\n",
    "    drop_list = ['scalar_coupling_constant', 'fc', 'atom_index_1', 'atom_index_0']\n",
    "    X_train = train.drop(columns=drop_list)\n",
    "    X_test = test.drop(columns=['atom_index_1', 'atom_index_0'])\n",
    "    y = train['scalar_coupling_constant']\n",
    "\n",
    "    return X_train, X_test, y"
   ]
  },
  {
   "cell_type": "code",
   "execution_count": null,
   "metadata": {},
   "outputs": [
    {
     "name": "stdout",
     "output_type": "stream",
     "text": [
      "Train dataset shape is now rows: 4658147 cols:23\n"
     ]
    },
    {
     "name": "stderr",
     "output_type": "stream",
     "text": [
      "/home/ygong/.local/lib/python3.7/site-packages/xgboost/core.py:587: FutureWarning: Series.base is deprecated and will be removed in a future version\n",
      "  if getattr(data, 'base', None) is not None and \\\n",
      "/home/ygong/.local/lib/python3.7/site-packages/xgboost/core.py:588: FutureWarning: Series.base is deprecated and will be removed in a future version\n",
      "  data.base is not None and isinstance(data, np.ndarray) \\\n"
     ]
    },
    {
     "name": "stdout",
     "output_type": "stream",
     "text": [
      "[17:40:56] WARNING: /workspace/src/objective/regression_obj.cu:152: reg:linear is now deprecated in favor of reg:squarederror.\n",
      "[17:40:56] WARNING: /workspace/src/learner.cc:686: Tree method is automatically selected to be 'approx' for faster speed. To use old behavior (exact greedy algorithm on single machine), set tree_method to 'exact'.\n"
     ]
    }
   ],
   "source": [
    "X_train, X_test, y_train = prepare_train()\n",
    "# initialize XGBRegressor\n",
    "xgb_model = xgb.XGBRegressor(n_estimators=10000, seed=42, n_jobs=8)\n",
    "\n",
    "xgb_model.fit(X_train, y_train)\n",
    "y_predict_xgb = xgb_model.predict(X_test)\n",
    "print('Train score: {}'.format(xgb_model.score(X_train, y_train)))\n",
    "\n",
    "submit = pd.read_csv(os.path.join(filepath, 'sample_submission.csv')).drop(columns='scalar_coupling_constant')\n",
    "submit['scalar_coupling_constant'] = y_predict_xgb\n",
    "\n",
    "fig, axes = plt.subplots()\n",
    "fig.set_size_inches(16, 12)\n",
    "xgb.plot_importance(xgb_model, ax=axes)\n",
    "plt.show()\n"
   ]
  },
  {
   "cell_type": "code",
   "execution_count": null,
   "metadata": {},
   "outputs": [],
   "source": [
    "import subprocess\n",
    "#subprocess.check_output(['ls','-l']) #all that is technically needed...\n",
    "print(subprocess.check_output(['pwd']))\n",
    "subprocess.call(['sh', './submit.sh'])"
   ]
  }
 ],
 "metadata": {
  "kernelspec": {
   "display_name": "Python 3",
   "language": "python",
   "name": "python3"
  },
  "language_info": {
   "codemirror_mode": {
    "name": "ipython",
    "version": 3
   },
   "file_extension": ".py",
   "mimetype": "text/x-python",
   "name": "python",
   "nbconvert_exporter": "python",
   "pygments_lexer": "ipython3",
   "version": "3.7.2"
  }
 },
 "nbformat": 4,
 "nbformat_minor": 2
}
